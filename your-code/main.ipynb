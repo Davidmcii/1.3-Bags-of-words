{
 "cells": [
  {
   "cell_type": "markdown",
   "metadata": {},
   "source": [
    "Define `docs` array that contains the paths of `doc1.txt`, `doc2.txt`, and `doc3.txt`."
   ]
  },
  {
   "cell_type": "code",
   "execution_count": 43,
   "metadata": {},
   "outputs": [
    {
     "name": "stdout",
     "output_type": "stream",
     "text": [
      "ironhack is cool\n",
      "i love ironhack\n",
      "i am a student at ironhack\n",
      "['ironhack is cool', 'i love ironhack', 'i am a student at ironhack']\n"
     ]
    }
   ],
   "source": [
    "import os;\n",
    "\n",
    "docs = ['doc1.txt', 'doc2.txt', 'doc3.txt']\n",
    "\n",
    "textos=[]\n",
    "\n",
    "list=[files for files in os.listdir(\"..\\your-code\") if files.endswith('txt')]\n",
    "\n",
    "for file_x in list:\n",
    "    with open(file_x , 'r') as f:\n",
    "        data = f.read()\n",
    "\n",
    "        data=data.lower()\n",
    "        data=data.replace('.','')\n",
    "\n",
    "        textos.append(data)\n",
    "\n",
    "        \n",
    "        print(data)\n",
    "\n",
    "print(textos)"
   ]
  },
  {
   "cell_type": "markdown",
   "metadata": {},
   "source": [
    "Define an empty array `corpus` that will contain the content strings of the docs. Loop `docs` and read the content of each doc into the `corpus` array."
   ]
  },
  {
   "cell_type": "code",
   "execution_count": 44,
   "metadata": {},
   "outputs": [],
   "source": [
    "corpus = textos\n",
    "\n",
    "# Write your code here"
   ]
  },
  {
   "cell_type": "markdown",
   "metadata": {},
   "source": [
    "Print `corpus`."
   ]
  },
  {
   "cell_type": "code",
   "execution_count": 45,
   "metadata": {},
   "outputs": [
    {
     "name": "stdout",
     "output_type": "stream",
     "text": [
      "['ironhack is cool', 'i love ironhack', 'i am a student at ironhack']\n"
     ]
    }
   ],
   "source": [
    "print(corpus)"
   ]
  },
  {
   "cell_type": "markdown",
   "metadata": {},
   "source": [
    "You should have seen:\n",
    "\n",
    "```['ironhack is cool', 'i love ironhack', 'i am a student at ironhack']```\n",
    "\n",
    "However, if your output is:\n",
    "\n",
    "```['Ironhack is cool.', 'I love Ironhack.', 'I am a student at Ironhack.']```\n",
    "\n",
    "This means you didn't:\n",
    "\n",
    "1. Remove punctuation from the strings;\n",
    "\n",
    "1. Convert strings to lowercase.\n",
    "\n",
    "Revise your code above until you receive the correct output for `corpus`."
   ]
  },
  {
   "cell_type": "markdown",
   "metadata": {},
   "source": [
    "Now define `bag_of_words` as an empty array. It will contain the unique terms in `corpus`.\n",
    "\n",
    "Loop through `corpus`. In each loop, do the following:\n",
    "\n",
    "1. Break the string into an array of terms. \n",
    "1. Create a sub-loop to iterate the terms array. \n",
    "  * In each sub-loop, you'll check if the current term is already contained in `bag_of_words`. If not in `bag_of_words`, append it to the array."
   ]
  },
  {
   "cell_type": "code",
   "execution_count": 46,
   "metadata": {},
   "outputs": [
    {
     "name": "stdout",
     "output_type": "stream",
     "text": [
      "ironhack is cool.i love ironhack.i am a student at ironhack.\n",
      "['ironhack', 'is', 'cool', 'i', 'love', 'ironhack', 'i', 'am', 'a', 'student', 'at', 'ironhack']\n",
      "{'ironhack', 'student', 'am', 'love', 'is', 'at', 'i', 'cool', 'a'}\n"
     ]
    }
   ],
   "source": [
    "bag_of_words = []\n",
    "\n",
    "i=0\n",
    "j=0\n",
    "sec=0\n",
    "\n",
    "arrs=''\n",
    "\n",
    "for word in corpus:\n",
    "    arrs= arrs + str(word) + '.'\n",
    "\n",
    "print(arrs)\n",
    "\n",
    "for word in arrs:\n",
    "    if word == '.' or word == ' ':\n",
    "\n",
    "        string= arrs[j:i]\n",
    "\n",
    "        bag_of_words.append(string) \n",
    "\n",
    "        sec=j\n",
    "\n",
    "        \n",
    "        j=i+1\n",
    "    i+=1\n",
    "\n",
    "print(bag_of_words)\n",
    "bag_of_words=set(bag_of_words)\n",
    "\n",
    "print(bag_of_words)\n",
    "\n",
    "# Write your code here"
   ]
  },
  {
   "cell_type": "markdown",
   "metadata": {},
   "source": [
    "Print `bag_of_words`. You should see: \n",
    "\n",
    "```['ironhack', 'is', 'cool', 'i', 'love', 'am', 'a', 'student', 'at']```"
   ]
  },
  {
   "cell_type": "code",
   "execution_count": 47,
   "metadata": {},
   "outputs": [
    {
     "name": "stdout",
     "output_type": "stream",
     "text": [
      "{'ironhack', 'student', 'am', 'love', 'is', 'at', 'i', 'cool', 'a'}\n"
     ]
    }
   ],
   "source": [
    "print(bag_of_words)"
   ]
  },
  {
   "cell_type": "markdown",
   "metadata": {},
   "source": [
    "Now we define an empty array called `term_freq`. Loop `corpus` for a second time. In each loop, create a sub-loop to iterate the terms in `bag_of_words`. Count how many times each term appears in each doc of `corpus`. Append the term-frequency array to `term_freq`."
   ]
  },
  {
   "cell_type": "code",
   "execution_count": 48,
   "metadata": {},
   "outputs": [
    {
     "name": "stdout",
     "output_type": "stream",
     "text": [
      "['ironhack is cool', 'i love ironhack', 'i am a student at ironhack']\n"
     ]
    }
   ],
   "source": [
    "print(corpus)"
   ]
  },
  {
   "cell_type": "code",
   "execution_count": 49,
   "metadata": {},
   "outputs": [],
   "source": [
    "def separar(contenido):\n",
    "\n",
    "    i=0\n",
    "    j=0\n",
    "    sec=0\n",
    "    resultado=[]\n",
    "\n",
    "    for word in contenido:\n",
    "        if word == '.' or word == ' ':\n",
    "\n",
    "            string= contenido[j:i]\n",
    "            resultado.append(string) \n",
    "\n",
    "            sec=j\n",
    "\n",
    "            j=i+1\n",
    "        i+=1\n",
    "\n",
    "    string= contenido[j:]\n",
    "    resultado.append(string)     \n",
    "\n",
    "    return resultado\n",
    "\n",
    "\n"
   ]
  },
  {
   "cell_type": "code",
   "execution_count": 50,
   "metadata": {},
   "outputs": [
    {
     "name": "stdout",
     "output_type": "stream",
     "text": [
      "ironhack is cool\n",
      "['ironhack', 'is', 'cool']\n",
      "['i', 'love', 'ironhack']\n",
      "['i', 'am', 'a', 'student', 'at', 'ironhack']\n"
     ]
    }
   ],
   "source": [
    "corpus1=corpus[0]\n",
    "corpus2=corpus[1]\n",
    "corpus3=corpus[2]\n",
    "\n",
    "print(corpus1)\n",
    "\n",
    "result1=separar(corpus1)\n",
    "result2=separar(corpus2)\n",
    "result3=separar(corpus3)\n",
    "\n",
    "print(result1)\n",
    "print(result2)\n",
    "print(result3)\n"
   ]
  },
  {
   "cell_type": "code",
   "execution_count": 51,
   "metadata": {},
   "outputs": [
    {
     "name": "stdout",
     "output_type": "stream",
     "text": [
      "{'ironhack', 'student', 'am', 'love', 'is', 'at', 'i', 'cool', 'a'}\n",
      "['ironhack', 'is', 'cool']\n"
     ]
    }
   ],
   "source": [
    "\n",
    "print(bag_of_words)\n",
    "print(result1)\n",
    "\n",
    "def frequencia(result):\n",
    "    term_freq1 = []\n",
    "\n",
    "    cont=0\n",
    "\n",
    "    esta=0\n",
    "    veces=0\n",
    "\n",
    "\n",
    "\n",
    "    for x in bag_of_words:\n",
    "\n",
    "        veces=result.count(x)\n",
    "        if x not in result:\n",
    "            esta=0\n",
    "        else:\n",
    "            esta=veces\n",
    "\n",
    "        term_freq1.append(esta)\n",
    "\n",
    "\n",
    "    return(term_freq1)\n",
    "\n",
    "\n"
   ]
  },
  {
   "cell_type": "code",
   "execution_count": 52,
   "metadata": {},
   "outputs": [
    {
     "name": "stdout",
     "output_type": "stream",
     "text": [
      "[[1, 0, 0, 0, 1, 0, 0, 1, 0], [1, 0, 0, 1, 0, 0, 1, 0, 0], [1, 1, 1, 0, 0, 1, 1, 0, 1]]\n"
     ]
    }
   ],
   "source": [
    "frec1=frequencia(result1)\n",
    "frec2=frequencia(result2)\n",
    "frec3=frequencia(result3)\n",
    "\n",
    "term_freq=[]\n",
    "\n",
    "term_freq.append(frec1)\n",
    "term_freq.append(frec2)\n",
    "term_freq.append(frec3)\n",
    "\n",
    "print(term_freq)"
   ]
  },
  {
   "cell_type": "markdown",
   "metadata": {},
   "source": [
    "Print `term_freq`. You should see:\n",
    "\n",
    "```[[1, 1, 1, 0, 0, 0, 0, 0, 0], [1, 0, 0, 1, 1, 0, 0, 0, 0], [1, 0, 0, 1, 0, 1, 1, 1, 1]]```"
   ]
  },
  {
   "cell_type": "code",
   "execution_count": 53,
   "metadata": {},
   "outputs": [
    {
     "name": "stdout",
     "output_type": "stream",
     "text": [
      "{'ironhack', 'student', 'am', 'love', 'is', 'at', 'i', 'cool', 'a'}\n",
      "[[1, 0, 0, 0, 1, 0, 0, 1, 0], [1, 0, 0, 1, 0, 0, 1, 0, 0], [1, 1, 1, 0, 0, 1, 1, 0, 1]]\n"
     ]
    }
   ],
   "source": [
    "print(bag_of_words)\n",
    "print(term_freq)"
   ]
  },
  {
   "cell_type": "markdown",
   "metadata": {},
   "source": [
    "**If your answer is correct, congratulations! You've solved the challenge!**\n",
    "\n",
    "If not, go back and check for errors in your code."
   ]
  }
 ],
 "metadata": {
  "kernelspec": {
   "display_name": "Python 3.9.12 ('base')",
   "language": "python",
   "name": "python3"
  },
  "language_info": {
   "codemirror_mode": {
    "name": "ipython",
    "version": 3
   },
   "file_extension": ".py",
   "mimetype": "text/x-python",
   "name": "python",
   "nbconvert_exporter": "python",
   "pygments_lexer": "ipython3",
   "version": "3.9.12"
  },
  "vscode": {
   "interpreter": {
    "hash": "ad2bdc8ecc057115af97d19610ffacc2b4e99fae6737bb82f5d7fb13d2f2c186"
   }
  }
 },
 "nbformat": 4,
 "nbformat_minor": 2
}
